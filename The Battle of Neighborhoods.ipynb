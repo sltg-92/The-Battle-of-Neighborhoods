{
    "cells": [
        {
            "metadata": {
                "collapsed": true
            },
            "cell_type": "markdown",
            "source": "# Introduction/Business Problem:"
        },
        {
            "metadata": {},
            "cell_type": "markdown",
            "source": "### In this capstone project I have chosen to find out the best location in Madrid to open a French style bakery-cafeteria based on the most visited locations."
        },
        {
            "metadata": {},
            "cell_type": "markdown",
            "source": "# Background Discussion:"
        },
        {
            "metadata": {},
            "cell_type": "markdown",
            "source": "### Although, in general terms, the bread market in Spain tends to shrink from year to year, it should be noted that there are also many changes in the types of offerings being marketed.\n### Specialty and artisan breads are increasingly in demand by a significant contingent of consumers. This has led to the emergence of new specialized bakeries that provide very diversified offerings of high quality and greater added value.\n### In general, bread is mainly channeled through the specialized trade (51.6%) and supermarkets (34.8%), as the latter are the main channels for these products. (34.8%), while the hypermarkets (7.4%) and the (7.4%) and other channels (6.2%) are less represented. are less represented.\n### Although Madrid is not one of the cities that consumes the most bread per capita, it is one of the cities that spends the most compared to other autonomous communities.\n"
        },
        {
            "metadata": {},
            "cell_type": "markdown",
            "source": "# Data methods to use:"
        },
        {
            "metadata": {},
            "cell_type": "markdown",
            "source": "### In order to accomplish this I want to find the best bakeries within a radius of 20 km from the Plaza Puerta del Sol in Madrid capital. Then I will use the folio to find the best place to put a bakery-cafeteria. We don't want to have two sites of the same typology close to each other. After showing those data in a data frame, I will show on a folio map the locations so that it is easy to see the clusters and understand where the most populated areas are. Then, the best place to open our site will be proposed."
        },
        {
            "metadata": {},
            "cell_type": "markdown",
            "source": "# Who would be interested in this?:"
        },
        {
            "metadata": {},
            "cell_type": "markdown",
            "source": "### Our project can be of great help to both individuals and real estate investment consultants specialized in buying and selling real estate."
        },
        {
            "metadata": {},
            "cell_type": "markdown",
            "source": "# Data that will be used:"
        },
        {
            "metadata": {},
            "cell_type": "markdown",
            "source": "### I will use the Foursquare API to bring in venues located near Madrid."
        },
        {
            "metadata": {},
            "cell_type": "markdown",
            "source": "# Methodology:"
        },
        {
            "metadata": {},
            "cell_type": "markdown",
            "source": "### I plan to use Foursquare API to bring the code in and Folium to show the location of the bakery-cafeteria so that I can determine where a good location might be for a new business."
        },
        {
            "metadata": {},
            "cell_type": "code",
            "source": "",
            "execution_count": null,
            "outputs": []
        }
    ],
    "metadata": {
        "kernelspec": {
            "name": "python3",
            "display_name": "Python 3.7",
            "language": "python"
        },
        "language_info": {
            "name": "python",
            "version": "3.7.10",
            "mimetype": "text/x-python",
            "codemirror_mode": {
                "name": "ipython",
                "version": 3
            },
            "pygments_lexer": "ipython3",
            "nbconvert_exporter": "python",
            "file_extension": ".py"
        }
    },
    "nbformat": 4,
    "nbformat_minor": 1
}